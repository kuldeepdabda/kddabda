{
 "cells": [
  {
   "cell_type": "code",
   "execution_count": 1,
   "id": "bb1467de",
   "metadata": {},
   "outputs": [],
   "source": [
    "A=\"MY NAME IS KULDEP SINGH\""
   ]
  },
  {
   "cell_type": "code",
   "execution_count": 2,
   "id": "b9ae50a4",
   "metadata": {},
   "outputs": [],
   "source": [
    "PRINT=A"
   ]
  },
  {
   "cell_type": "code",
   "execution_count": 3,
   "id": "8c78c20f",
   "metadata": {},
   "outputs": [
    {
     "name": "stdout",
     "output_type": "stream",
     "text": [
      "MY NAME IS KULDEP SINGH\n"
     ]
    }
   ],
   "source": [
    "print(A)"
   ]
  },
  {
   "cell_type": "code",
   "execution_count": 5,
   "id": "1241c655",
   "metadata": {},
   "outputs": [
    {
     "name": "stdout",
     "output_type": "stream",
     "text": [
      "20\n"
     ]
    }
   ],
   "source": [
    "print(25-5)"
   ]
  }
 ],
 "metadata": {
  "kernelspec": {
   "display_name": "Python 3 (ipykernel)",
   "language": "python",
   "name": "python3"
  },
  "language_info": {
   "codemirror_mode": {
    "name": "ipython",
    "version": 3
   },
   "file_extension": ".py",
   "mimetype": "text/x-python",
   "name": "python",
   "nbconvert_exporter": "python",
   "pygments_lexer": "ipython3",
   "version": "3.10.9"
  }
 },
 "nbformat": 4,
 "nbformat_minor": 5
}
